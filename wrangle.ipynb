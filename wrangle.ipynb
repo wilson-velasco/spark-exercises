{
 "cells": [
  {
   "cell_type": "code",
   "execution_count": 1,
   "id": "dbf128d2",
   "metadata": {},
   "outputs": [],
   "source": [
    "import pyspark\n",
    "import pandas as pd\n",
    "import numpy as np\n",
    "from pydataset import data"
   ]
  },
  {
   "cell_type": "code",
   "execution_count": 2,
   "id": "5399cd74",
   "metadata": {},
   "outputs": [],
   "source": [
    "from pyspark.sql.functions import *\n",
    "from pyspark.sql.types import *"
   ]
  },
  {
   "cell_type": "code",
   "execution_count": 3,
   "id": "ecdb793a",
   "metadata": {},
   "outputs": [
    {
     "name": "stderr",
     "output_type": "stream",
     "text": [
      "Setting default log level to \"WARN\".\n",
      "To adjust logging level use sc.setLogLevel(newLevel). For SparkR, use setLogLevel(newLevel).\n",
      "23/07/06 08:48:38 WARN NativeCodeLoader: Unable to load native-hadoop library for your platform... using builtin-java classes where applicable\n"
     ]
    }
   ],
   "source": [
    "spark = pyspark.sql.SparkSession.builder.getOrCreate()"
   ]
  },
  {
   "cell_type": "markdown",
   "id": "6ac4de83",
   "metadata": {},
   "source": [
    "1) Read the case, department, and source data into their own spark dataframes."
   ]
  },
  {
   "cell_type": "code",
   "execution_count": 4,
   "id": "82e17ca9",
   "metadata": {},
   "outputs": [],
   "source": [
    "import env"
   ]
  },
  {
   "cell_type": "code",
   "execution_count": 5,
   "id": "e6cdb40a",
   "metadata": {},
   "outputs": [],
   "source": [
    "url = env.get_db_url('311_data')"
   ]
  },
  {
   "cell_type": "code",
   "execution_count": 6,
   "id": "f9f2c4f1",
   "metadata": {},
   "outputs": [],
   "source": [
    "source = pd.read_sql('''SELECT * FROM source''', url, index_col='index')\n",
    "dept = pd.read_sql('''SELECT * FROM dept''', url)\n",
    "case = pd.read_sql('''SELECT * FROM cases''', url)"
   ]
  },
  {
   "cell_type": "code",
   "execution_count": 7,
   "id": "44695c3c",
   "metadata": {},
   "outputs": [],
   "source": [
    "source = spark.createDataFrame(source)\n",
    "dept = spark.createDataFrame(dept)\n",
    "case = spark.createDataFrame(case)"
   ]
  },
  {
   "cell_type": "markdown",
   "id": "b7838468",
   "metadata": {},
   "source": [
    "2) Let's see how writing to the local disk works in spark:\n",
    "\n",
    "* Write the code necessary to store the source data in both csv and json format, store these as sources_csv and sources_json\n",
    "* Inspect your folder structure. What do you notice?"
   ]
  },
  {
   "cell_type": "code",
   "execution_count": 8,
   "id": "90b9c8bb",
   "metadata": {},
   "outputs": [
    {
     "name": "stderr",
     "output_type": "stream",
     "text": [
      "                                                                                \r"
     ]
    }
   ],
   "source": [
    "source.write.json('sources_json', mode='overwrite')"
   ]
  },
  {
   "cell_type": "code",
   "execution_count": 9,
   "id": "c6eaf814",
   "metadata": {},
   "outputs": [],
   "source": [
    "source.write.csv('sources_csv', mode='overwrite')"
   ]
  },
  {
   "cell_type": "markdown",
   "id": "cdf7d408",
   "metadata": {},
   "source": [
    "Both folders saved have partitioned the data into several files."
   ]
  },
  {
   "cell_type": "markdown",
   "id": "1cc82af0",
   "metadata": {},
   "source": [
    "3) Inspect the data in your dataframes. Are the data types appropriate? Write the code necessary to cast the values to the appropriate types."
   ]
  },
  {
   "cell_type": "code",
   "execution_count": 10,
   "id": "c280f977",
   "metadata": {},
   "outputs": [
    {
     "name": "stdout",
     "output_type": "stream",
     "text": [
      "+---------+----------------+\n",
      "|source_id| source_username|\n",
      "+---------+----------------+\n",
      "|   100137|Merlene Blodgett|\n",
      "|   103582|     Carmen Cura|\n",
      "+---------+----------------+\n",
      "only showing top 2 rows\n",
      "\n"
     ]
    }
   ],
   "source": [
    "source.show(2)"
   ]
  },
  {
   "cell_type": "code",
   "execution_count": 11,
   "id": "d8b19acf",
   "metadata": {
    "scrolled": true
   },
   "outputs": [
    {
     "data": {
      "text/plain": [
       "StructType([StructField('source_id', StringType(), True), StructField('source_username', StringType(), True)])"
      ]
     },
     "execution_count": 11,
     "metadata": {},
     "output_type": "execute_result"
    }
   ],
   "source": [
    "source.schema"
   ]
  },
  {
   "cell_type": "code",
   "execution_count": 12,
   "id": "57cfff19",
   "metadata": {},
   "outputs": [
    {
     "name": "stdout",
     "output_type": "stream",
     "text": [
      "+---------------+--------------------+----------------------+-------------------+\n",
      "|  dept_division|           dept_name|standardized_dept_name|dept_subject_to_SLA|\n",
      "+---------------+--------------------+----------------------+-------------------+\n",
      "|311 Call Center|    Customer Service|      Customer Service|                YES|\n",
      "|          Brush|Solid Waste Manag...|           Solid Waste|                YES|\n",
      "+---------------+--------------------+----------------------+-------------------+\n",
      "only showing top 2 rows\n",
      "\n"
     ]
    }
   ],
   "source": [
    "dept.show(2)"
   ]
  },
  {
   "cell_type": "code",
   "execution_count": 13,
   "id": "a39d9a31",
   "metadata": {},
   "outputs": [
    {
     "data": {
      "text/plain": [
       "StructType([StructField('dept_division', StringType(), True), StructField('dept_name', StringType(), True), StructField('standardized_dept_name', StringType(), True), StructField('dept_subject_to_SLA', StringType(), True)])"
      ]
     },
     "execution_count": 13,
     "metadata": {},
     "output_type": "execute_result"
    }
   ],
   "source": [
    "dept.schema"
   ]
  },
  {
   "cell_type": "code",
   "execution_count": 14,
   "id": "61075dca",
   "metadata": {},
   "outputs": [],
   "source": [
    "dept = dept.withColumn('dept_subject_to_SLA', expr('dept_subject_to_SLA == \"YES\"'))"
   ]
  },
  {
   "cell_type": "code",
   "execution_count": 15,
   "id": "c9c20062",
   "metadata": {},
   "outputs": [
    {
     "name": "stdout",
     "output_type": "stream",
     "text": [
      "+---------------+--------------------+----------------------+-------------------+\n",
      "|  dept_division|           dept_name|standardized_dept_name|dept_subject_to_SLA|\n",
      "+---------------+--------------------+----------------------+-------------------+\n",
      "|311 Call Center|    Customer Service|      Customer Service|               true|\n",
      "|          Brush|Solid Waste Manag...|           Solid Waste|               true|\n",
      "+---------------+--------------------+----------------------+-------------------+\n",
      "only showing top 2 rows\n",
      "\n"
     ]
    }
   ],
   "source": [
    "dept.show(2)"
   ]
  },
  {
   "cell_type": "code",
   "execution_count": 16,
   "id": "315a663e",
   "metadata": {},
   "outputs": [
    {
     "name": "stderr",
     "output_type": "stream",
     "text": [
      "23/07/06 08:50:34 WARN TaskSetManager: Stage 5 contains a task of very large size (18868 KiB). The maximum recommended task size is 1000 KiB.\n",
      "[Stage 5:>                                                          (0 + 1) / 1]\r"
     ]
    },
    {
     "name": "stdout",
     "output_type": "stream",
     "text": [
      "-RECORD 0------------------------------------\n",
      " case_id              | 1014127332           \n",
      " case_opened_date     | 1/1/18 0:42          \n",
      " case_closed_date     | 1/1/18 12:29         \n",
      " SLA_due_date         | 9/26/20 0:42         \n",
      " case_late            | NO                   \n",
      " num_days_late        | -998.5087616         \n",
      " case_closed          | YES                  \n",
      " dept_division        | Field Operations     \n",
      " service_request_type | Stray Animal         \n",
      " SLA_days             | 999.0                \n",
      " case_status          | Closed               \n",
      " source_id            | svcCRMLS             \n",
      " request_address      | 2315  EL PASO ST,... \n",
      " council_district     | 5                    \n",
      "-RECORD 1------------------------------------\n",
      " case_id              | 1014127333           \n",
      " case_opened_date     | 1/1/18 0:46          \n",
      " case_closed_date     | 1/3/18 8:11          \n",
      " SLA_due_date         | 1/5/18 8:30          \n",
      " case_late            | NO                   \n",
      " num_days_late        | -2.012604167         \n",
      " case_closed          | YES                  \n",
      " dept_division        | Storm Water          \n",
      " service_request_type | Removal Of Obstru... \n",
      " SLA_days             | 4.322222222          \n",
      " case_status          | Closed               \n",
      " source_id            | svcCRMSS             \n",
      " request_address      | 2215  GOLIAD RD, ... \n",
      " council_district     | 3                    \n",
      "only showing top 2 rows\n",
      "\n"
     ]
    },
    {
     "name": "stderr",
     "output_type": "stream",
     "text": [
      "23/07/06 08:50:38 WARN PythonRunner: Detected deadlock while completing task 0.0 in stage 5 (TID 19): Attempting to kill Python Worker\n",
      "\r",
      "                                                                                \r"
     ]
    }
   ],
   "source": [
    "case.show(2, vertical=True)"
   ]
  },
  {
   "cell_type": "code",
   "execution_count": 17,
   "id": "4b8e3745",
   "metadata": {},
   "outputs": [
    {
     "data": {
      "text/plain": [
       "StructType([StructField('case_id', LongType(), True), StructField('case_opened_date', StringType(), True), StructField('case_closed_date', StringType(), True), StructField('SLA_due_date', StringType(), True), StructField('case_late', StringType(), True), StructField('num_days_late', DoubleType(), True), StructField('case_closed', StringType(), True), StructField('dept_division', StringType(), True), StructField('service_request_type', StringType(), True), StructField('SLA_days', DoubleType(), True), StructField('case_status', StringType(), True), StructField('source_id', StringType(), True), StructField('request_address', StringType(), True), StructField('council_district', LongType(), True)])"
      ]
     },
     "execution_count": 17,
     "metadata": {},
     "output_type": "execute_result"
    }
   ],
   "source": [
    "case.schema"
   ]
  },
  {
   "cell_type": "code",
   "execution_count": 18,
   "id": "880a7a31",
   "metadata": {},
   "outputs": [],
   "source": [
    "case = case.withColumnRenamed('SLA_due_date', 'case_due_date')"
   ]
  },
  {
   "cell_type": "code",
   "execution_count": 19,
   "id": "f9062c0d",
   "metadata": {},
   "outputs": [
    {
     "name": "stderr",
     "output_type": "stream",
     "text": [
      "23/07/06 08:50:39 WARN TaskSetManager: Stage 6 contains a task of very large size (18868 KiB). The maximum recommended task size is 1000 KiB.\n",
      "[Stage 6:>                                                          (0 + 1) / 1]\r"
     ]
    },
    {
     "name": "stdout",
     "output_type": "stream",
     "text": [
      "-RECORD 0------------------------------------\n",
      " case_id              | 1014127332           \n",
      " case_opened_date     | 2018-01-01 00:42:00  \n",
      " case_closed_date     | 2018-01-01 00:42:00  \n",
      " case_due_date        | 2020-09-26 00:42:00  \n",
      " case_late            | NO                   \n",
      " num_days_late        | -998.5087616         \n",
      " case_closed          | YES                  \n",
      " dept_division        | Field Operations     \n",
      " service_request_type | Stray Animal         \n",
      " SLA_days             | 999.0                \n",
      " case_status          | Closed               \n",
      " source_id            | svcCRMLS             \n",
      " request_address      | 2315  EL PASO ST,... \n",
      " council_district     | 5                    \n",
      "-RECORD 1------------------------------------\n",
      " case_id              | 1014127333           \n",
      " case_opened_date     | 2018-01-01 00:46:00  \n",
      " case_closed_date     | 2018-01-01 00:46:00  \n",
      " case_due_date        | 2018-01-05 08:30:00  \n",
      " case_late            | NO                   \n",
      " num_days_late        | -2.012604167         \n",
      " case_closed          | YES                  \n",
      " dept_division        | Storm Water          \n",
      " service_request_type | Removal Of Obstru... \n",
      " SLA_days             | 4.322222222          \n",
      " case_status          | Closed               \n",
      " source_id            | svcCRMSS             \n",
      " request_address      | 2215  GOLIAD RD, ... \n",
      " council_district     | 3                    \n",
      "only showing top 2 rows\n",
      "\n"
     ]
    },
    {
     "name": "stderr",
     "output_type": "stream",
     "text": [
      "23/07/06 08:50:43 WARN PythonRunner: Detected deadlock while completing task 0.0 in stage 6 (TID 20): Attempting to kill Python Worker\n",
      "\r",
      "                                                                                \r"
     ]
    }
   ],
   "source": [
    "fmt = \"M/d/yy H:mm\"\n",
    "case = (\n",
    "    case.withColumn(\"case_opened_date\", to_timestamp(\"case_opened_date\", fmt))\n",
    "    .withColumn(\"case_closed_date\", to_timestamp(\"case_opened_date\", fmt))\n",
    "    .withColumn(\"case_due_date\", to_timestamp(\"case_due_date\", fmt))\n",
    ")\n",
    "\n",
    "case.show(2, vertical=True)"
   ]
  },
  {
   "cell_type": "code",
   "execution_count": 20,
   "id": "bdb96ba3",
   "metadata": {},
   "outputs": [],
   "source": [
    "case = case.withColumn('case_late', expr('case_late == \"YES\"'))\\\n",
    "            .withColumn('case_closed', expr('case_closed == \"YES\"'))\\\n",
    "            .withColumn('council_district', col('council_district').cast(StringType()))"
   ]
  },
  {
   "cell_type": "code",
   "execution_count": 21,
   "id": "2bc801c3",
   "metadata": {},
   "outputs": [
    {
     "name": "stderr",
     "output_type": "stream",
     "text": [
      "23/07/06 08:50:43 WARN TaskSetManager: Stage 7 contains a task of very large size (18868 KiB). The maximum recommended task size is 1000 KiB.\n",
      "[Stage 7:>                                                          (0 + 1) / 1]\r"
     ]
    },
    {
     "name": "stdout",
     "output_type": "stream",
     "text": [
      "-RECORD 0------------------------------------\n",
      " case_id              | 1014127332           \n",
      " case_opened_date     | 2018-01-01 00:42:00  \n",
      " case_closed_date     | 2018-01-01 00:42:00  \n",
      " case_due_date        | 2020-09-26 00:42:00  \n",
      " case_late            | false                \n",
      " num_days_late        | -998.5087616         \n",
      " case_closed          | true                 \n",
      " dept_division        | Field Operations     \n",
      " service_request_type | Stray Animal         \n",
      " SLA_days             | 999.0                \n",
      " case_status          | Closed               \n",
      " source_id            | svcCRMLS             \n",
      " request_address      | 2315  EL PASO ST,... \n",
      " council_district     | 5                    \n",
      "-RECORD 1------------------------------------\n",
      " case_id              | 1014127333           \n",
      " case_opened_date     | 2018-01-01 00:46:00  \n",
      " case_closed_date     | 2018-01-01 00:46:00  \n",
      " case_due_date        | 2018-01-05 08:30:00  \n",
      " case_late            | false                \n",
      " num_days_late        | -2.012604167         \n",
      " case_closed          | true                 \n",
      " dept_division        | Storm Water          \n",
      " service_request_type | Removal Of Obstru... \n",
      " SLA_days             | 4.322222222          \n",
      " case_status          | Closed               \n",
      " source_id            | svcCRMSS             \n",
      " request_address      | 2215  GOLIAD RD, ... \n",
      " council_district     | 3                    \n",
      "only showing top 2 rows\n",
      "\n"
     ]
    },
    {
     "name": "stderr",
     "output_type": "stream",
     "text": [
      "23/07/06 08:50:47 WARN PythonRunner: Detected deadlock while completing task 0.0 in stage 7 (TID 21): Attempting to kill Python Worker\n",
      "\r",
      "                                                                                \r"
     ]
    }
   ],
   "source": [
    "case.show(2, vertical=True)"
   ]
  },
  {
   "cell_type": "markdown",
   "id": "88059802",
   "metadata": {},
   "source": [
    "---------------------------"
   ]
  },
  {
   "cell_type": "markdown",
   "id": "6ac94af4",
   "metadata": {},
   "source": [
    "1) How old is the latest (in terms of days past SLA) currently open issue? How long has the oldest (in terms of days since opened) currently opened issue been open?"
   ]
  },
  {
   "cell_type": "code",
   "execution_count": 22,
   "id": "1f5ff78a",
   "metadata": {},
   "outputs": [
    {
     "name": "stdout",
     "output_type": "stream",
     "text": [
      "root\n",
      " |-- case_id: long (nullable = true)\n",
      " |-- case_opened_date: timestamp (nullable = true)\n",
      " |-- case_closed_date: timestamp (nullable = true)\n",
      " |-- case_due_date: timestamp (nullable = true)\n",
      " |-- case_late: boolean (nullable = true)\n",
      " |-- num_days_late: double (nullable = true)\n",
      " |-- case_closed: boolean (nullable = true)\n",
      " |-- dept_division: string (nullable = true)\n",
      " |-- service_request_type: string (nullable = true)\n",
      " |-- SLA_days: double (nullable = true)\n",
      " |-- case_status: string (nullable = true)\n",
      " |-- source_id: string (nullable = true)\n",
      " |-- request_address: string (nullable = true)\n",
      " |-- council_district: string (nullable = true)\n",
      "\n"
     ]
    }
   ],
   "source": [
    "case.printSchema()"
   ]
  },
  {
   "cell_type": "code",
   "execution_count": 23,
   "id": "0aad8a4f",
   "metadata": {},
   "outputs": [
    {
     "name": "stderr",
     "output_type": "stream",
     "text": [
      "23/07/06 08:50:47 WARN TaskSetManager: Stage 8 contains a task of very large size (18868 KiB). The maximum recommended task size is 1000 KiB.\n",
      "                                                                                \r"
     ]
    },
    {
     "data": {
      "text/plain": [
       "18110"
      ]
     },
     "execution_count": 23,
     "metadata": {},
     "output_type": "execute_result"
    }
   ],
   "source": [
    "case.filter('! case_closed').filter('! isnan(\"num_days_late\")')\\\n",
    ".select('case_opened_date', 'case_due_date', 'num_days_late').sort('num_days_late', ascending=False).count()"
   ]
  },
  {
   "cell_type": "code",
   "execution_count": 24,
   "id": "dbccac23",
   "metadata": {
    "scrolled": false
   },
   "outputs": [
    {
     "name": "stderr",
     "output_type": "stream",
     "text": [
      "23/07/06 08:50:55 WARN TaskSetManager: Stage 11 contains a task of very large size (18868 KiB). The maximum recommended task size is 1000 KiB.\n",
      "[Stage 11:==================================================>       (7 + 1) / 8]\r"
     ]
    },
    {
     "name": "stdout",
     "output_type": "stream",
     "text": [
      "-RECORD 0------------------------------------\n",
      " case_id              | 1013936527           \n",
      " case_opened_date     | 2017-10-09 12:11:00  \n",
      " case_closed_date     | 2017-10-09 12:11:00  \n",
      " case_due_date        | null                 \n",
      " case_late            | false                \n",
      " num_days_late        | NaN                  \n",
      " case_closed          | true                 \n",
      " dept_division        | District 1           \n",
      " service_request_type | Request for Resea... \n",
      " SLA_days             | NaN                  \n",
      " case_status          | Closed               \n",
      " source_id            | 140508               \n",
      " request_address      | 1013  SACRAMENTO,... \n",
      " council_district     | 1                    \n",
      "-RECORD 1------------------------------------\n",
      " case_id              | 1014565742           \n",
      " case_opened_date     | 2018-06-01 11:52:00  \n",
      " case_closed_date     | 2018-06-01 11:52:00  \n",
      " case_due_date        | null                 \n",
      " case_late            | false                \n",
      " num_days_late        | NaN                  \n",
      " case_closed          | true                 \n",
      " dept_division        | District 1           \n",
      " service_request_type | Request for Resea... \n",
      " SLA_days             | NaN                  \n",
      " case_status          | Closed               \n",
      " source_id            | FC24472              \n",
      " request_address      | FREILING DR and V... \n",
      " council_district     | 1                    \n",
      "-RECORD 2------------------------------------\n",
      " case_id              | 1013632928           \n",
      " case_opened_date     | 2017-06-09 13:47:00  \n",
      " case_closed_date     | 2017-06-09 13:47:00  \n",
      " case_due_date        | null                 \n",
      " case_late            | false                \n",
      " num_days_late        | NaN                  \n",
      " case_closed          | true                 \n",
      " dept_division        | District 9           \n",
      " service_request_type | Request for Resea... \n",
      " SLA_days             | NaN                  \n",
      " case_status          | Closed               \n",
      " source_id            | 138650               \n",
      " request_address      | 1100  SAN PEDRO A... \n",
      " council_district     | 1                    \n",
      "-RECORD 3------------------------------------\n",
      " case_id              | 1014351173           \n",
      " case_opened_date     | 2018-03-22 12:06:00  \n",
      " case_closed_date     | 2018-03-22 12:06:00  \n",
      " case_due_date        | null                 \n",
      " case_late            | false                \n",
      " num_days_late        | NaN                  \n",
      " case_closed          | true                 \n",
      " dept_division        | District 1           \n",
      " service_request_type | Request for Resea... \n",
      " SLA_days             | NaN                  \n",
      " case_status          | Closed               \n",
      " source_id            | 140508               \n",
      " request_address      | BROADWAY and GREE... \n",
      " council_district     | 1                    \n",
      "-RECORD 4------------------------------------\n",
      " case_id              | 1013288696           \n",
      " case_opened_date     | 2017-01-26 15:36:00  \n",
      " case_closed_date     | 2017-01-26 15:36:00  \n",
      " case_due_date        | 2017-02-09 15:36:00  \n",
      " case_late            | true                 \n",
      " num_days_late        | 519.6980787          \n",
      " case_closed          | true                 \n",
      " dept_division        | Code Enforcement     \n",
      " service_request_type | Bandit Signs         \n",
      " SLA_days             | 14.0                 \n",
      " case_status          | Closed               \n",
      " source_id            | 138650               \n",
      " request_address      | 10631  NACOGDOCHE... \n",
      " council_district     | 10                   \n",
      "-RECORD 5------------------------------------\n",
      " case_id              | 1013279603           \n",
      " case_opened_date     | 2017-01-23 15:43:00  \n",
      " case_closed_date     | 2017-01-23 15:43:00  \n",
      " case_due_date        | 2017-02-06 15:43:00  \n",
      " case_late            | true                 \n",
      " num_days_late        | 514.9381944          \n",
      " case_closed          | true                 \n",
      " dept_division        | Code Enforcement     \n",
      " service_request_type | No Address Posted    \n",
      " SLA_days             | 14.0                 \n",
      " case_status          | Closed               \n",
      " source_id            | 139344               \n",
      " request_address      | 6614  MONTEREY ST... \n",
      " council_district     | 6                    \n",
      "-RECORD 6------------------------------------\n",
      " case_id              | 1013279614           \n",
      " case_opened_date     | 2017-01-23 15:45:00  \n",
      " case_closed_date     | 2017-01-23 15:45:00  \n",
      " case_due_date        | 2017-02-06 15:45:00  \n",
      " case_late            | true                 \n",
      " num_days_late        | 514.8329861000001    \n",
      " case_closed          | true                 \n",
      " dept_division        | Code Enforcement     \n",
      " service_request_type | No Address Posted    \n",
      " SLA_days             | 14.0                 \n",
      " case_status          | Closed               \n",
      " source_id            | 139344               \n",
      " request_address      | 6611  MONTEREY ST... \n",
      " council_district     | 6                    \n",
      "-RECORD 7------------------------------------\n",
      " case_id              | 1013285103           \n",
      " case_opened_date     | 2017-01-25 13:28:00  \n",
      " case_closed_date     | 2017-01-25 13:28:00  \n",
      " case_due_date        | 2017-02-08 13:28:00  \n",
      " case_late            | true                 \n",
      " num_days_late        | 509.9276852          \n",
      " case_closed          | true                 \n",
      " dept_division        | Code Enforcement     \n",
      " service_request_type | Bandit Signs         \n",
      " SLA_days             | 14.0                 \n",
      " case_status          | Closed               \n",
      " source_id            | ns16326              \n",
      " request_address      | GRISSOM RD and TI... \n",
      " council_district     | 7                    \n",
      "-RECORD 8------------------------------------\n",
      " case_id              | 1013276183           \n",
      " case_opened_date     | 2017-01-22 09:42:00  \n",
      " case_closed_date     | 2017-01-22 09:42:00  \n",
      " case_due_date        | 2017-01-31 08:30:00  \n",
      " case_late            | true                 \n",
      " num_days_late        | 506.1483218          \n",
      " case_closed          | true                 \n",
      " dept_division        | Code Enforcement     \n",
      " service_request_type | Permits Building     \n",
      " SLA_days             | 8.949398148          \n",
      " case_status          | Closed               \n",
      " source_id            | mt13131              \n",
      " request_address      | 1122  PINE ST N, ... \n",
      " council_district     | 2                    \n",
      "-RECORD 9------------------------------------\n",
      " case_id              | 1013320288           \n",
      " case_opened_date     | 2017-02-08 16:51:00  \n",
      " case_closed_date     | 2017-02-08 16:51:00  \n",
      " case_due_date        | 2017-02-22 16:51:00  \n",
      " case_late            | true                 \n",
      " num_days_late        | 505.043831           \n",
      " case_closed          | true                 \n",
      " dept_division        | Code Enforcement     \n",
      " service_request_type | Bandit Signs         \n",
      " SLA_days             | 14.0                 \n",
      " case_status          | Closed               \n",
      " source_id            | dl05036              \n",
      " request_address      | 2605  SAUNDERS, S... \n",
      " council_district     | 5                    \n",
      "-RECORD 10-----------------------------------\n",
      " case_id              | 1013249900           \n",
      " case_opened_date     | 2017-01-11 14:54:00  \n",
      " case_closed_date     | 2017-01-11 14:54:00  \n",
      " case_due_date        | 2017-01-26 14:54:00  \n",
      " case_late            | true                 \n",
      " num_days_late        | 504.1280903          \n",
      " case_closed          | true                 \n",
      " dept_division        | Code Enforcement     \n",
      " service_request_type | Bandit Signs         \n",
      " SLA_days             | 15.0                 \n",
      " case_status          | Closed               \n",
      " source_id            | CRM_Listener         \n",
      " request_address      | 1000  GUADALUPE S... \n",
      " council_district     | 5                    \n",
      "-RECORD 11-----------------------------------\n",
      " case_id              | 1013310957           \n",
      " case_opened_date     | 2017-02-06 08:23:00  \n",
      " case_closed_date     | 2017-02-06 08:23:00  \n",
      " case_due_date        | 2017-02-20 08:30:00  \n",
      " case_late            | true                 \n",
      " num_days_late        | 502.3374421          \n",
      " case_closed          | true                 \n",
      " dept_division        | Code Enforcement     \n",
      " service_request_type | No Address Posted    \n",
      " SLA_days             | 14.00420139          \n",
      " case_status          | Closed               \n",
      " source_id            | me05816              \n",
      " request_address      | 511  K ST, San An... \n",
      " council_district     | 2                    \n",
      "-RECORD 12-----------------------------------\n",
      " case_id              | 1013338600           \n",
      " case_opened_date     | 2017-02-16 08:04:00  \n",
      " case_closed_date     | 2017-02-16 08:04:00  \n",
      " case_due_date        | 2017-03-02 08:30:00  \n",
      " case_late            | true                 \n",
      " num_days_late        | 497.4134838000001    \n",
      " case_closed          | true                 \n",
      " dept_division        | Code Enforcement     \n",
      " service_request_type | Bandit Signs         \n",
      " SLA_days             | 14.01790509          \n",
      " case_status          | Closed               \n",
      " source_id            | CRM_Listener         \n",
      " request_address      | SALTILLO ST and Z... \n",
      " council_district     | 5                    \n",
      "-RECORD 13-----------------------------------\n",
      " case_id              | 1013338595           \n",
      " case_opened_date     | 2017-02-16 08:03:00  \n",
      " case_closed_date     | 2017-02-16 08:03:00  \n",
      " case_due_date        | 2017-03-02 08:30:00  \n",
      " case_late            | true                 \n",
      " num_days_late        | 497.412662           \n",
      " case_closed          | true                 \n",
      " dept_division        | Code Enforcement     \n",
      " service_request_type | Bandit Signs         \n",
      " SLA_days             | 14.01821759          \n",
      " case_status          | Closed               \n",
      " source_id            | CRM_Listener         \n",
      " request_address      | SALTILLO ST and Z... \n",
      " council_district     | 5                    \n",
      "-RECORD 14-----------------------------------\n",
      " case_id              | 1013398893           \n",
      " case_opened_date     | 2017-03-09 15:36:00  \n",
      " case_closed_date     | 2017-03-09 15:36:00  \n",
      " case_due_date        | 2017-03-23 15:36:00  \n",
      " case_late            | true                 \n",
      " num_days_late        | 496.83238430000006   \n",
      " case_closed          | true                 \n",
      " dept_division        | Code Enforcement     \n",
      " service_request_type | Bandit Signs         \n",
      " SLA_days             | 14.0                 \n",
      " case_status          | Closed               \n",
      " source_id            | CRM_Listener         \n",
      " request_address      | 3935  MEDICAL DR,... \n",
      " council_district     | 8                    \n",
      "-RECORD 15-----------------------------------\n",
      " case_id              | 1013360238           \n",
      " case_opened_date     | 2017-02-23 11:02:00  \n",
      " case_closed_date     | 2017-02-23 11:02:00  \n",
      " case_due_date        | 2017-03-09 11:02:00  \n",
      " case_late            | true                 \n",
      " num_days_late        | 495.26748839999993   \n",
      " case_closed          | true                 \n",
      " dept_division        | Code Enforcement     \n",
      " service_request_type | Bandit Signs         \n",
      " SLA_days             | 14.0                 \n",
      " case_status          | Closed               \n",
      " source_id            | dl05036              \n",
      " request_address      | 1300  VERMONT, Sa... \n",
      " council_district     | 5                    \n",
      "-RECORD 16-----------------------------------\n",
      " case_id              | 1013346272           \n",
      " case_opened_date     | 2017-02-19 08:41:00  \n",
      " case_closed_date     | 2017-02-19 08:41:00  \n",
      " case_due_date        | 2017-03-06 08:30:00  \n",
      " case_late            | true                 \n",
      " num_days_late        | 494.9918286999999    \n",
      " case_closed          | true                 \n",
      " dept_division        | Code Enforcement     \n",
      " service_request_type | Bandit Signs         \n",
      " SLA_days             | 14.99215278          \n",
      " case_status          | Closed               \n",
      " source_id            | 138810               \n",
      " request_address      | NACOGDOCHES RD an... \n",
      " council_district     | 10                   \n",
      "-RECORD 17-----------------------------------\n",
      " case_id              | 1013285457           \n",
      " case_opened_date     | 2017-01-25 14:44:00  \n",
      " case_closed_date     | 2017-01-25 14:44:00  \n",
      " case_due_date        | 2017-02-08 14:44:00  \n",
      " case_late            | true                 \n",
      " num_days_late        | 494.949838           \n",
      " case_closed          | true                 \n",
      " dept_division        | Code Enforcement     \n",
      " service_request_type | Zoning: Junk Yards   \n",
      " SLA_days             | 14.0                 \n",
      " case_status          | Closed               \n",
      " source_id            | CRM_Listener         \n",
      " request_address      | 442  NEW LAREDO H... \n",
      " council_district     | 5                    \n",
      "-RECORD 18-----------------------------------\n",
      " case_id              | 1013285481           \n",
      " case_opened_date     | 2017-01-25 14:48:00  \n",
      " case_closed_date     | 2017-01-25 14:48:00  \n",
      " case_due_date        | 2017-02-08 14:48:00  \n",
      " case_late            | true                 \n",
      " num_days_late        | 494.94844910000006   \n",
      " case_closed          | true                 \n",
      " dept_division        | Code Enforcement ... \n",
      " service_request_type | Zoning: Recycle Yard \n",
      " SLA_days             | 14.0                 \n",
      " case_status          | Closed               \n",
      " source_id            | CRM_Listener         \n",
      " request_address      | 442  NEW LAREDO H... \n",
      " council_district     | 5                    \n",
      "-RECORD 19-----------------------------------\n",
      " case_id              | 1013279276           \n",
      " case_opened_date     | 2017-01-23 14:46:00  \n",
      " case_closed_date     | 2017-01-23 14:46:00  \n",
      " case_due_date        | 2017-02-06 14:46:00  \n",
      " case_late            | true                 \n",
      " num_days_late        | 493.1094792          \n",
      " case_closed          | true                 \n",
      " dept_division        | Code Enforcement     \n",
      " service_request_type | Curbstoning          \n",
      " SLA_days             | 14.0                 \n",
      " case_status          | Closed               \n",
      " source_id            | rs16746              \n",
      " request_address      | SAUNDERS and ZARZ... \n",
      " council_district     | 5                    \n",
      "only showing top 20 rows\n",
      "\n"
     ]
    },
    {
     "name": "stderr",
     "output_type": "stream",
     "text": [
      "\r",
      "                                                                                \r"
     ]
    }
   ],
   "source": [
    "case.filter(case.case_closed).sort('num_days_late', ascending=False).show(vertical=True)"
   ]
  },
  {
   "cell_type": "code",
   "execution_count": 25,
   "id": "557c4545",
   "metadata": {
    "scrolled": true
   },
   "outputs": [
    {
     "name": "stderr",
     "output_type": "stream",
     "text": [
      "23/07/06 08:51:02 WARN TaskSetManager: Stage 12 contains a task of very large size (18868 KiB). The maximum recommended task size is 1000 KiB.\n",
      "[Stage 12:>                                                         (0 + 1) / 1]\r"
     ]
    },
    {
     "name": "stdout",
     "output_type": "stream",
     "text": [
      "-RECORD 0------------------------------------\n",
      " case_id              | 1014128388           \n",
      " case_opened_date     | 2018-01-02 09:39:00  \n",
      " case_closed_date     | 2018-01-02 09:39:00  \n",
      " case_due_date        | 2018-01-09 09:39:00  \n",
      " case_late            | true                 \n",
      " num_days_late        | 211.5974884          \n",
      " case_closed          | false                \n",
      " dept_division        | 311 Call Center      \n",
      " service_request_type | Complaint            \n",
      " SLA_days             | 7.0                  \n",
      " case_status          | Open                 \n",
      " source_id            | mt13131              \n",
      " request_address      | 7326  WESTGLADE P... \n",
      " council_district     | 6                    \n",
      "-RECORD 1------------------------------------\n",
      " case_id              | 1014128790           \n",
      " case_opened_date     | 2018-01-02 10:49:00  \n",
      " case_closed_date     | 2018-01-02 10:49:00  \n",
      " case_due_date        | 2018-05-10 10:49:00  \n",
      " case_late            | true                 \n",
      " num_days_late        | 90.54925926          \n",
      " case_closed          | false                \n",
      " dept_division        | Dangerous Premise    \n",
      " service_request_type | DSDB Ordered/Hold... \n",
      " SLA_days             | 128.0                \n",
      " case_status          | Open                 \n",
      " source_id            | CRM_Listener         \n",
      " request_address      | 2202  POTOSI ST, ... \n",
      " council_district     | 5                    \n",
      "-RECORD 2------------------------------------\n",
      " case_id              | 1014129873           \n",
      " case_opened_date     | 2018-01-02 13:45:00  \n",
      " case_closed_date     | 2018-01-02 13:45:00  \n",
      " case_due_date        | 2018-03-07 13:45:00  \n",
      " case_late            | true                 \n",
      " num_days_late        | 154.4266551          \n",
      " case_closed          | false                \n",
      " dept_division        | Code Enforcement     \n",
      " service_request_type | Permits Building     \n",
      " SLA_days             | 64.0                 \n",
      " case_status          | Open                 \n",
      " source_id            | CRM_Listener         \n",
      " request_address      | 3304  FREDSBG RD,... \n",
      " council_district     | 1                    \n",
      "-RECORD 3------------------------------------\n",
      " case_id              | 1014129956           \n",
      " case_opened_date     | 2018-01-02 14:09:00  \n",
      " case_closed_date     | 2018-01-02 14:09:00  \n",
      " case_due_date        | 2018-05-10 14:09:00  \n",
      " case_late            | true                 \n",
      " num_days_late        | 90.41039352          \n",
      " case_closed          | false                \n",
      " dept_division        | Engineering Division \n",
      " service_request_type | Street Light Exis... \n",
      " SLA_days             | 128.0000116          \n",
      " case_status          | Open                 \n",
      " source_id            | 139344               \n",
      " request_address      | 135  VITRA, San A... \n",
      " council_district     | 1                    \n",
      "-RECORD 4------------------------------------\n",
      " case_id              | 1014130090           \n",
      " case_opened_date     | 2018-01-02 14:34:00  \n",
      " case_closed_date     | 2018-01-02 14:34:00  \n",
      " case_due_date        | 2018-05-10 14:34:00  \n",
      " case_late            | true                 \n",
      " num_days_late        | 90.39277778          \n",
      " case_closed          | false                \n",
      " dept_division        | Dangerous Premise    \n",
      " service_request_type | DSDB Ordered/Hold... \n",
      " SLA_days             | 128.0                \n",
      " case_status          | Open                 \n",
      " source_id            | CRM_Listener         \n",
      " request_address      | 150  ALLENDALE, S... \n",
      " council_district     | 5                    \n",
      "-RECORD 5------------------------------------\n",
      " case_id              | 1014130342           \n",
      " case_opened_date     | 2018-01-02 15:22:00  \n",
      " case_closed_date     | 2018-01-02 15:22:00  \n",
      " case_due_date        | 2018-01-09 15:22:00  \n",
      " case_late            | true                 \n",
      " num_days_late        | 211.35949069999995   \n",
      " case_closed          | false                \n",
      " dept_division        | 311 Call Center      \n",
      " service_request_type | Complaint            \n",
      " SLA_days             | 7.0                  \n",
      " case_status          | Open                 \n",
      " source_id            | ns16326              \n",
      " request_address      | 711  SMOKE TREE, ... \n",
      " council_district     | 6                    \n",
      "-RECORD 6------------------------------------\n",
      " case_id              | 1014130507           \n",
      " case_opened_date     | 2018-01-02 15:58:00  \n",
      " case_closed_date     | 2018-01-02 15:58:00  \n",
      " case_due_date        | 2018-01-17 15:58:00  \n",
      " case_late            | true                 \n",
      " num_days_late        | 203.3342824          \n",
      " case_closed          | false                \n",
      " dept_division        | Code Enforcement     \n",
      " service_request_type | Bandit Signs         \n",
      " SLA_days             | 15.0                 \n",
      " case_status          | Open                 \n",
      " source_id            | NO10960              \n",
      " request_address      | IH 35 S and MILIT... \n",
      " council_district     | 3                    \n",
      "-RECORD 7------------------------------------\n",
      " case_id              | 1014131356           \n",
      " case_opened_date     | 2018-01-03 08:04:00  \n",
      " case_closed_date     | 2018-01-03 08:04:00  \n",
      " case_due_date        | 2018-01-10 08:30:00  \n",
      " case_late            | true                 \n",
      " num_days_late        | 210.6458333          \n",
      " case_closed          | false                \n",
      " dept_division        | 311 Call Center      \n",
      " service_request_type | Complaint            \n",
      " SLA_days             | 7.017974537000001    \n",
      " case_status          | Open                 \n",
      " source_id            | NO10960              \n",
      " request_address      | 816  HAMMOND AVE,... \n",
      " council_district     | 3                    \n",
      "-RECORD 8------------------------------------\n",
      " case_id              | 1014131633           \n",
      " case_opened_date     | 2018-01-03 09:18:00  \n",
      " case_closed_date     | 2018-01-03 09:18:00  \n",
      " case_due_date        | 2018-01-18 09:18:00  \n",
      " case_late            | true                 \n",
      " num_days_late        | 202.6118981          \n",
      " case_closed          | false                \n",
      " dept_division        | Code Enforcement     \n",
      " service_request_type | Bandit Signs         \n",
      " SLA_days             | 15.0                 \n",
      " case_status          | Open                 \n",
      " source_id            | ss21394              \n",
      " request_address      | NEWOAK PARK and V... \n",
      " council_district     | 8                    \n",
      "-RECORD 9------------------------------------\n",
      " case_id              | 1014131677           \n",
      " case_opened_date     | 2018-01-03 09:26:00  \n",
      " case_closed_date     | 2018-01-03 09:26:00  \n",
      " case_due_date        | 2018-10-25 09:26:00  \n",
      " case_late            | false                \n",
      " num_days_late        | -77.39361111         \n",
      " case_closed          | false                \n",
      " dept_division        | Streets              \n",
      " service_request_type | Sidewalk Cost Sha... \n",
      " SLA_days             | 295.0                \n",
      " case_status          | Open                 \n",
      " source_id            | mt23152              \n",
      " request_address      | 6203  FARRAGUT DR... \n",
      " council_district     | 6                    \n",
      "-RECORD 10-----------------------------------\n",
      " case_id              | 1014131768           \n",
      " case_opened_date     | 2018-01-03 09:49:00  \n",
      " case_closed_date     | 2018-01-03 09:49:00  \n",
      " case_due_date        | 2018-03-08 09:49:00  \n",
      " case_late            | true                 \n",
      " num_days_late        | 153.5909028          \n",
      " case_closed          | false                \n",
      " dept_division        | Code Enforcement     \n",
      " service_request_type | Overgrown Yard/Trash \n",
      " SLA_days             | 64.0                 \n",
      " case_status          | Open                 \n",
      " source_id            | CRM_Listener         \n",
      " request_address      | 759  GLADSTONE ST... \n",
      " council_district     | 5                    \n",
      "-RECORD 11-----------------------------------\n",
      " case_id              | 1014131826           \n",
      " case_opened_date     | 2018-01-03 10:03:00  \n",
      " case_closed_date     | 2018-01-03 10:03:00  \n",
      " case_due_date        | 2018-01-10 10:03:00  \n",
      " case_late            | true                 \n",
      " num_days_late        | 210.5807523          \n",
      " case_closed          | false                \n",
      " dept_division        | 311 Call Center      \n",
      " service_request_type | Complaint            \n",
      " SLA_days             | 7.0                  \n",
      " case_status          | Open                 \n",
      " source_id            | mt23152              \n",
      " request_address      | 123  SHOREVIEW, S... \n",
      " council_district     | 4                    \n",
      "-RECORD 12-----------------------------------\n",
      " case_id              | 1014132056           \n",
      " case_opened_date     | 2018-01-03 10:51:00  \n",
      " case_closed_date     | 2018-01-03 10:51:00  \n",
      " case_due_date        | 2018-05-11 10:51:00  \n",
      " case_late            | true                 \n",
      " num_days_late        | 89.5474537           \n",
      " case_closed          | false                \n",
      " dept_division        | Dangerous Premise    \n",
      " service_request_type | DSDB Ordered/Hold... \n",
      " SLA_days             | 128.0                \n",
      " case_status          | Open                 \n",
      " source_id            | CRM_Listener         \n",
      " request_address      | 2606  CERALVO ST,... \n",
      " council_district     | 5                    \n",
      "-RECORD 13-----------------------------------\n",
      " case_id              | 1014132331           \n",
      " case_opened_date     | 2018-01-03 11:42:00  \n",
      " case_closed_date     | 2018-01-03 11:42:00  \n",
      " case_due_date        | 2018-01-12 11:42:00  \n",
      " case_late            | true                 \n",
      " num_days_late        | 208.5119676          \n",
      " case_closed          | false                \n",
      " dept_division        | Director's Office... \n",
      " service_request_type | Status: On-Going ... \n",
      " SLA_days             | 9.0                  \n",
      " case_status          | Open                 \n",
      " source_id            | ss09159              \n",
      " request_address      | 1702  TERRA ALTA ... \n",
      " council_district     | 10                   \n",
      "-RECORD 14-----------------------------------\n",
      " case_id              | 1014132370           \n",
      " case_opened_date     | 2018-01-03 11:47:00  \n",
      " case_closed_date     | 2018-01-03 11:47:00  \n",
      " case_due_date        | 2018-05-11 11:47:00  \n",
      " case_late            | true                 \n",
      " num_days_late        | 89.50842593          \n",
      " case_closed          | false                \n",
      " dept_division        | Code Enforcement     \n",
      " service_request_type | Zoning: District ... \n",
      " SLA_days             | 128.0                \n",
      " case_status          | Open                 \n",
      " source_id            | CRM_Listener         \n",
      " request_address      | 1114  AMANDA, San... \n",
      " council_district     | 2                    \n",
      "-RECORD 15-----------------------------------\n",
      " case_id              | 1014132569           \n",
      " case_opened_date     | 2018-01-03 12:35:00  \n",
      " case_closed_date     | 2018-01-03 12:35:00  \n",
      " case_due_date        | 2018-01-10 12:35:00  \n",
      " case_late            | true                 \n",
      " num_days_late        | 210.4753935          \n",
      " case_closed          | false                \n",
      " dept_division        | 311 Call Center      \n",
      " service_request_type | Complaint            \n",
      " SLA_days             | 7.0                  \n",
      " case_status          | Open                 \n",
      " source_id            | mt23152              \n",
      " request_address      | 163  ROSEMONT DR,... \n",
      " council_district     | 7                    \n",
      "-RECORD 16-----------------------------------\n",
      " case_id              | 1014133214           \n",
      " case_opened_date     | 2018-01-03 14:41:00  \n",
      " case_closed_date     | 2018-01-03 14:41:00  \n",
      " case_due_date        | 2018-03-08 14:41:00  \n",
      " case_late            | true                 \n",
      " num_days_late        | 153.38753469999995   \n",
      " case_closed          | false                \n",
      " dept_division        | Code Enforcement     \n",
      " service_request_type | Permits, Fences      \n",
      " SLA_days             | 64.0                 \n",
      " case_status          | Open                 \n",
      " source_id            | CRM_Listener         \n",
      " request_address      | 10218  DESERT SAN... \n",
      " council_district     | 1                    \n",
      "-RECORD 17-----------------------------------\n",
      " case_id              | 1014133365           \n",
      " case_opened_date     | 2018-01-03 15:18:00  \n",
      " case_closed_date     | 2018-01-03 15:18:00  \n",
      " case_due_date        | 2018-01-18 15:18:00  \n",
      " case_late            | true                 \n",
      " num_days_late        | 202.3624306          \n",
      " case_closed          | false                \n",
      " dept_division        | Code Enforcement     \n",
      " service_request_type | Bandit Signs         \n",
      " SLA_days             | 15.0                 \n",
      " case_status          | Open                 \n",
      " source_id            | ns16326              \n",
      " request_address      | 410 SE and ROOSEV... \n",
      " council_district     | 3                    \n",
      "-RECORD 18-----------------------------------\n",
      " case_id              | 1014133466           \n",
      " case_opened_date     | 2018-01-03 15:37:00  \n",
      " case_closed_date     | 2018-01-03 15:37:00  \n",
      " case_due_date        | 2018-05-11 15:37:00  \n",
      " case_late            | true                 \n",
      " num_days_late        | 89.3490625           \n",
      " case_closed          | false                \n",
      " dept_division        | Engineering Division \n",
      " service_request_type | Street Light New ... \n",
      " SLA_days             | 128.0                \n",
      " case_status          | Open                 \n",
      " source_id            | 139868               \n",
      " request_address      | 6118  WENZEL RD, ... \n",
      " council_district     | 10                   \n",
      "-RECORD 19-----------------------------------\n",
      " case_id              | 1014133479           \n",
      " case_opened_date     | 2018-01-03 15:39:00  \n",
      " case_closed_date     | 2018-01-03 15:39:00  \n",
      " case_due_date        | 2018-01-18 15:39:00  \n",
      " case_late            | true                 \n",
      " num_days_late        | 202.3476736          \n",
      " case_closed          | false                \n",
      " dept_division        | Code Enforcement     \n",
      " service_request_type | Front Or Side Yar... \n",
      " SLA_days             | 15.0                 \n",
      " case_status          | Open                 \n",
      " source_id            | svcCRMLS             \n",
      " request_address      | 362  DRESDEN, San... \n",
      " council_district     | 1                    \n",
      "only showing top 20 rows\n",
      "\n"
     ]
    },
    {
     "name": "stderr",
     "output_type": "stream",
     "text": [
      "23/07/06 08:51:06 WARN PythonRunner: Detected deadlock while completing task 0.0 in stage 12 (TID 39): Attempting to kill Python Worker\n",
      "\r",
      "                                                                                \r"
     ]
    }
   ],
   "source": [
    "case.filter(case.case_closed == False).filter(case.num_days_late != 'NaN')\\\n",
    ".show(vertical=True)"
   ]
  },
  {
   "cell_type": "markdown",
   "id": "99ad195f",
   "metadata": {},
   "source": [
    "2) How many Stray Animal cases are there?"
   ]
  },
  {
   "cell_type": "code",
   "execution_count": 26,
   "id": "696892df",
   "metadata": {},
   "outputs": [
    {
     "name": "stderr",
     "output_type": "stream",
     "text": [
      "23/07/06 08:51:06 WARN TaskSetManager: Stage 13 contains a task of very large size (18868 KiB). The maximum recommended task size is 1000 KiB.\n",
      "                                                                                \r"
     ]
    },
    {
     "data": {
      "text/plain": [
       "26760"
      ]
     },
     "execution_count": 26,
     "metadata": {},
     "output_type": "execute_result"
    }
   ],
   "source": [
    "case.filter(case.service_request_type == 'Stray Animal').count()"
   ]
  },
  {
   "cell_type": "markdown",
   "id": "83770555",
   "metadata": {},
   "source": [
    "3) How many service requests that are assigned to the Field Operations department (dept_division) are not classified as \"Officer Standby\" request type (service_request_type)?"
   ]
  },
  {
   "cell_type": "code",
   "execution_count": 27,
   "id": "18293323",
   "metadata": {},
   "outputs": [
    {
     "name": "stderr",
     "output_type": "stream",
     "text": [
      "23/07/06 08:51:07 WARN TaskSetManager: Stage 16 contains a task of very large size (18868 KiB). The maximum recommended task size is 1000 KiB.\n",
      "                                                                                \r"
     ]
    },
    {
     "data": {
      "text/plain": [
       "113902"
      ]
     },
     "execution_count": 27,
     "metadata": {},
     "output_type": "execute_result"
    }
   ],
   "source": [
    "case.filter(case.dept_division == 'Field Operations').filter(case.service_request_type != 'Officer Standby').count()"
   ]
  },
  {
   "cell_type": "markdown",
   "id": "ac3add80",
   "metadata": {},
   "source": [
    "4) Convert the council_district column to a string column."
   ]
  },
  {
   "cell_type": "code",
   "execution_count": 28,
   "id": "004d4808",
   "metadata": {},
   "outputs": [],
   "source": [
    "# case = case.withColumn('council_district', col('council_district').cast(StringType()))"
   ]
  },
  {
   "cell_type": "markdown",
   "id": "5da843ce",
   "metadata": {},
   "source": [
    "5) Extract the year from the case_closed_date column."
   ]
  },
  {
   "cell_type": "code",
   "execution_count": 29,
   "id": "083b81bb",
   "metadata": {},
   "outputs": [
    {
     "name": "stderr",
     "output_type": "stream",
     "text": [
      "23/07/06 08:51:09 WARN TaskSetManager: Stage 19 contains a task of very large size (18868 KiB). The maximum recommended task size is 1000 KiB.\n",
      "[Stage 19:>                                                         (0 + 1) / 1]\r"
     ]
    },
    {
     "name": "stdout",
     "output_type": "stream",
     "text": [
      "+----+\n",
      "|year|\n",
      "+----+\n",
      "|2018|\n",
      "|2018|\n",
      "|2018|\n",
      "|2018|\n",
      "|2018|\n",
      "|2018|\n",
      "|2018|\n",
      "|2018|\n",
      "|2018|\n",
      "|2018|\n",
      "|2018|\n",
      "|2018|\n",
      "|2018|\n",
      "|2018|\n",
      "|2018|\n",
      "|2018|\n",
      "|2018|\n",
      "|2018|\n",
      "|2018|\n",
      "|2018|\n",
      "+----+\n",
      "only showing top 20 rows\n",
      "\n"
     ]
    },
    {
     "name": "stderr",
     "output_type": "stream",
     "text": [
      "23/07/06 08:51:13 WARN PythonRunner: Detected deadlock while completing task 0.0 in stage 19 (TID 58): Attempting to kill Python Worker\n",
      "\r",
      "                                                                                \r"
     ]
    }
   ],
   "source": [
    "case.withColumn('year', year('case_closed_date')).select('year').show()"
   ]
  },
  {
   "cell_type": "markdown",
   "id": "2884ed15",
   "metadata": {},
   "source": [
    "6) Convert num_days_late from days to hours in new columns num_hours_late."
   ]
  },
  {
   "cell_type": "code",
   "execution_count": 30,
   "id": "d62378c5",
   "metadata": {},
   "outputs": [
    {
     "name": "stderr",
     "output_type": "stream",
     "text": [
      "23/07/06 08:51:13 WARN TaskSetManager: Stage 20 contains a task of very large size (18868 KiB). The maximum recommended task size is 1000 KiB.\n",
      "[Stage 20:>                                                         (0 + 1) / 1]\r"
     ]
    },
    {
     "name": "stdout",
     "output_type": "stream",
     "text": [
      "+-------------------+\n",
      "|     num_hours_late|\n",
      "+-------------------+\n",
      "|-23964.210278399998|\n",
      "|      -48.302500008|\n",
      "+-------------------+\n",
      "only showing top 2 rows\n",
      "\n"
     ]
    },
    {
     "name": "stderr",
     "output_type": "stream",
     "text": [
      "23/07/06 08:51:17 WARN PythonRunner: Detected deadlock while completing task 0.0 in stage 20 (TID 59): Attempting to kill Python Worker\n",
      "\r",
      "                                                                                \r"
     ]
    }
   ],
   "source": [
    "case.selectExpr('num_days_late * 24 AS num_hours_late').show(2)"
   ]
  },
  {
   "cell_type": "markdown",
   "id": "fd8ceb49",
   "metadata": {},
   "source": [
    "7) Join the case data with the source and department data."
   ]
  },
  {
   "cell_type": "code",
   "execution_count": 31,
   "id": "8f6d019f",
   "metadata": {},
   "outputs": [
    {
     "name": "stderr",
     "output_type": "stream",
     "text": [
      "23/07/06 08:51:17 WARN TaskSetManager: Stage 21 contains a task of very large size (18868 KiB). The maximum recommended task size is 1000 KiB.\n",
      "[Stage 27:>                                                         (0 + 8) / 8]\r"
     ]
    },
    {
     "name": "stdout",
     "output_type": "stream",
     "text": [
      "+-------------+---------+----------+-------------------+-------------------+-------------------+---------+-------------+-----------+--------------------+--------+-----------+--------------------+----------------+---------------+--------------------+----------------------+-------------------+\n",
      "|dept_division|source_id|   case_id|   case_opened_date|   case_closed_date|      case_due_date|case_late|num_days_late|case_closed|service_request_type|SLA_days|case_status|     request_address|council_district|source_username|           dept_name|standardized_dept_name|dept_subject_to_SLA|\n",
      "+-------------+---------+----------+-------------------+-------------------+-------------------+---------+-------------+-----------+--------------------+--------+-----------+--------------------+----------------+---------------+--------------------+----------------------+-------------------+\n",
      "|Miscellaneous|   141239|1014129438|2018-01-02 12:16:00|2018-01-02 12:16:00|2018-01-04 12:16:00|    false| -1.935416667|       true|   Dead Animal - Dog|     2.0|     Closed|161  PRICE, San A...|               4|   Erica Flores|Solid Waste Manag...|           Solid Waste|               true|\n",
      "+-------------+---------+----------+-------------------+-------------------+-------------------+---------+-------------+-----------+--------------------+--------+-----------+--------------------+----------------+---------------+--------------------+----------------------+-------------------+\n",
      "only showing top 1 row\n",
      "\n"
     ]
    },
    {
     "name": "stderr",
     "output_type": "stream",
     "text": [
      "\r",
      "                                                                                \r"
     ]
    }
   ],
   "source": [
    "case.join(source, on='source_id').join(dept, on='dept_division').show(1)"
   ]
  },
  {
   "cell_type": "markdown",
   "id": "affb0f25",
   "metadata": {},
   "source": [
    "8) Are there any cases that do not have a request source?"
   ]
  },
  {
   "cell_type": "code",
   "execution_count": 32,
   "id": "e3663a2f",
   "metadata": {},
   "outputs": [
    {
     "name": "stderr",
     "output_type": "stream",
     "text": [
      "23/07/06 08:51:21 WARN TaskSetManager: Stage 32 contains a task of very large size (18868 KiB). The maximum recommended task size is 1000 KiB.\n",
      "23/07/06 08:51:22 WARN TaskSetManager: Stage 33 contains a task of very large size (19002 KiB). The maximum recommended task size is 1000 KiB.\n",
      "23/07/06 08:51:23 WARN TaskSetManager: Stage 34 contains a task of very large size (19069 KiB). The maximum recommended task size is 1000 KiB.\n",
      "[Stage 34:======================================>                   (2 + 1) / 3]\r"
     ]
    },
    {
     "name": "stdout",
     "output_type": "stream",
     "text": [
      "+-------+----------------+----------------+-------------+---------+-------------+-----------+-------------+--------------------+--------+-----------+---------+---------------+----------------+\n",
      "|case_id|case_opened_date|case_closed_date|case_due_date|case_late|num_days_late|case_closed|dept_division|service_request_type|SLA_days|case_status|source_id|request_address|council_district|\n",
      "+-------+----------------+----------------+-------------+---------+-------------+-----------+-------------+--------------------+--------+-----------+---------+---------------+----------------+\n",
      "+-------+----------------+----------------+-------------+---------+-------------+-----------+-------------+--------------------+--------+-----------+---------+---------------+----------------+\n",
      "\n"
     ]
    },
    {
     "name": "stderr",
     "output_type": "stream",
     "text": [
      "\r",
      "                                                                                \r"
     ]
    }
   ],
   "source": [
    "case.filter(case.source_id == np.nan).show()"
   ]
  },
  {
   "cell_type": "markdown",
   "id": "4aa890fc",
   "metadata": {},
   "source": [
    "9) What are the top 10 service request types in terms of number of requests?"
   ]
  },
  {
   "cell_type": "code",
   "execution_count": 33,
   "id": "575035af",
   "metadata": {},
   "outputs": [
    {
     "name": "stderr",
     "output_type": "stream",
     "text": [
      "23/07/06 08:51:24 WARN TaskSetManager: Stage 35 contains a task of very large size (18868 KiB). The maximum recommended task size is 1000 KiB.\n",
      "[Stage 35:>                                                         (0 + 8) / 8]\r"
     ]
    },
    {
     "name": "stdout",
     "output_type": "stream",
     "text": [
      "+--------------------+-----+\n",
      "|service_request_type|count|\n",
      "+--------------------+-----+\n",
      "|           No Pickup|86855|\n",
      "|Overgrown Yard/Trash|65895|\n",
      "|        Bandit Signs|32910|\n",
      "|        Damaged Cart|30338|\n",
      "|Front Or Side Yar...|28794|\n",
      "|        Stray Animal|26760|\n",
      "|Aggressive Animal...|24882|\n",
      "|Cart Exchange Req...|22024|\n",
      "|Junk Vehicle On P...|21473|\n",
      "|     Pot Hole Repair|20616|\n",
      "+--------------------+-----+\n",
      "only showing top 10 rows\n",
      "\n"
     ]
    },
    {
     "name": "stderr",
     "output_type": "stream",
     "text": [
      "\r",
      "                                                                                \r"
     ]
    }
   ],
   "source": [
    "case.groupBy('service_request_type').count().sort('count', ascending=False).show(10)"
   ]
  },
  {
   "cell_type": "markdown",
   "id": "a11abe28",
   "metadata": {},
   "source": [
    "10) What are the top 10 service request types in terms of average days late?"
   ]
  },
  {
   "cell_type": "code",
   "execution_count": 34,
   "id": "2f3ebff4",
   "metadata": {},
   "outputs": [
    {
     "name": "stderr",
     "output_type": "stream",
     "text": [
      "23/07/06 08:51:25 WARN TaskSetManager: Stage 38 contains a task of very large size (18868 KiB). The maximum recommended task size is 1000 KiB.\n",
      "[Stage 38:>                                                         (0 + 8) / 8]\r"
     ]
    },
    {
     "name": "stdout",
     "output_type": "stream",
     "text": [
      "+--------------------+-------------------+\n",
      "|service_request_type|      avg_days_late|\n",
      "+--------------------+-------------------+\n",
      "|  Engineering Design|-1399.1272334999999|\n",
      "|Signal Timing Mod...|-1247.0797799732143|\n",
      "|        Stray Animal| -998.8045726160839|\n",
      "|Major Park Improv...| -280.2546235360405|\n",
      "|Sidewalk Cost Sha...|-184.87626063647144|\n",
      "|Multi Tenant Exte...|-135.71588128047625|\n",
      "|   CPS Energy Towers|-129.84778717829747|\n",
      "|CPS Energy Wood P...| -129.3090520272122|\n",
      "|CPS Energy Metal ...|-129.17919786427768|\n",
      "|Multi Tenant Inte...| -125.1431856354651|\n",
      "+--------------------+-------------------+\n",
      "only showing top 10 rows\n",
      "\n"
     ]
    },
    {
     "name": "stderr",
     "output_type": "stream",
     "text": [
      "\r",
      "                                                                                \r"
     ]
    }
   ],
   "source": [
    "case.groupBy('service_request_type').agg(mean('num_days_late').alias('avg_days_late')).sort('avg_days_late').show(10)"
   ]
  },
  {
   "cell_type": "markdown",
   "id": "57379716",
   "metadata": {},
   "source": [
    "11) Does number of days late depend on department?"
   ]
  },
  {
   "cell_type": "code",
   "execution_count": 36,
   "id": "19e8c97d",
   "metadata": {},
   "outputs": [
    {
     "name": "stderr",
     "output_type": "stream",
     "text": [
      "23/07/06 08:54:01 WARN TaskSetManager: Stage 41 contains a task of very large size (18868 KiB). The maximum recommended task size is 1000 KiB.\n",
      "[Stage 41:>                                                         (0 + 8) / 8]\r"
     ]
    },
    {
     "name": "stdout",
     "output_type": "stream",
     "text": [
      "+--------------------+-------------------+\n",
      "|       dept_division|      avg_days_late|\n",
      "+--------------------+-------------------+\n",
      "|          District 2|                NaN|\n",
      "|          District 1|                NaN|\n",
      "|          District 7|                NaN|\n",
      "|          District 3|                NaN|\n",
      "|          District 6|                NaN|\n",
      "|          District 9|                NaN|\n",
      "|          District 8|                NaN|\n",
      "|         District 10|                NaN|\n",
      "|Code Enforcement ...| 135.92851612479797|\n",
      "|        Reservations|        66.03116319|\n",
      "|     311 Call Center|  59.49019459221512|\n",
      "|Director's Office...|  36.87389387687183|\n",
      "|Engineering Division| 13.148054014077813|\n",
      "|               Shops| 10.114974371919644|\n",
      "|           Tree Crew| 4.7453029838890215|\n",
      "|         Solid Waste|  3.541793412154981|\n",
      "|              Trades| 3.1521799543913445|\n",
      "|Clean and Green N...|  1.691468919487805|\n",
      "|              Vector|-1.1180635370092933|\n",
      "|    Facility License| -1.433144064152706|\n",
      "+--------------------+-------------------+\n",
      "only showing top 20 rows\n",
      "\n"
     ]
    },
    {
     "name": "stderr",
     "output_type": "stream",
     "text": [
      "\r",
      "                                                                                \r"
     ]
    }
   ],
   "source": [
    "case.groupBy('dept_division').agg(mean('num_days_late').alias('avg_days_late')).sort('avg_days_late', ascending=False).show()"
   ]
  },
  {
   "cell_type": "markdown",
   "id": "64987e99",
   "metadata": {},
   "source": [
    "12) How do number of days late depend on department and request type?"
   ]
  },
  {
   "cell_type": "code",
   "execution_count": 37,
   "id": "7d157168",
   "metadata": {},
   "outputs": [
    {
     "name": "stderr",
     "output_type": "stream",
     "text": [
      "23/07/06 08:54:06 WARN TaskSetManager: Stage 44 contains a task of very large size (18868 KiB). The maximum recommended task size is 1000 KiB.\n",
      "[Stage 44:>                                                         (0 + 8) / 8]\r"
     ]
    },
    {
     "name": "stdout",
     "output_type": "stream",
     "text": [
      "+--------------------+--------------------+------------------+\n",
      "|       dept_division|service_request_type|     avg_days_late|\n",
      "+--------------------+--------------------+------------------+\n",
      "|          District 2|Request for Resea...|               NaN|\n",
      "|          District 1|Request for Resea...|               NaN|\n",
      "|          District 9|Request for Resea...|               NaN|\n",
      "|          District 7|Request for Resea...|               NaN|\n",
      "|          District 8|Request for Resea...|               NaN|\n",
      "|          District 6|Request for Resea...|               NaN|\n",
      "|          District 3|Request for Resea...|               NaN|\n",
      "|         District 10|CCO_Request for R...|               NaN|\n",
      "|    Code Enforcement|  Zoning: Junk Yards|175.95636210420952|\n",
      "|Code Enforcement ...|Labeling for Used...|162.43032902285717|\n",
      "|Code Enforcement ...|Record Keeping of...| 153.9972403942857|\n",
      "|Code Enforcement ...|Signage Requied f...|151.63868055333333|\n",
      "|Code Enforcement ...|Storage of Used M...|142.11255641500003|\n",
      "|Code Enforcement ...|Zoning: Recycle Yard|135.92851612479797|\n",
      "|    Code Enforcement|Donation Containe...|131.75610506358706|\n",
      "|Code Enforcement ...|License Requied U...|128.79828704142858|\n",
      "|Code Enforcement ...|Used Mattress Ins...| 92.93570056835293|\n",
      "|Code Enforcement ...|        Bandit Signs| 87.61764120320001|\n",
      "|             Signals|Traffic Signal Gr...| 77.90021217000002|\n",
      "|     311 Call Center|           Complaint| 72.51790932659712|\n",
      "+--------------------+--------------------+------------------+\n",
      "only showing top 20 rows\n",
      "\n"
     ]
    },
    {
     "name": "stderr",
     "output_type": "stream",
     "text": [
      "\r",
      "                                                                                \r"
     ]
    }
   ],
   "source": [
    "case.groupBy('dept_division', 'service_request_type').agg(mean('num_days_late').alias('avg_days_late'))\\\n",
    ".sort('avg_days_late', ascending=False).show()"
   ]
  },
  {
   "cell_type": "code",
   "execution_count": null,
   "id": "6c1f9e8c",
   "metadata": {},
   "outputs": [],
   "source": []
  }
 ],
 "metadata": {
  "kernelspec": {
   "display_name": "Python 3 (ipykernel)",
   "language": "python",
   "name": "python3"
  },
  "language_info": {
   "codemirror_mode": {
    "name": "ipython",
    "version": 3
   },
   "file_extension": ".py",
   "mimetype": "text/x-python",
   "name": "python",
   "nbconvert_exporter": "python",
   "pygments_lexer": "ipython3",
   "version": "3.9.13"
  }
 },
 "nbformat": 4,
 "nbformat_minor": 5
}
